{
  "nbformat": 4,
  "nbformat_minor": 0,
  "metadata": {
    "colab": {
      "provenance": [],
      "authorship_tag": "ABX9TyPiVN8Pxx6Kf+4uTvfIB9W2",
      "include_colab_link": true
    },
    "kernelspec": {
      "name": "python3",
      "display_name": "Python 3"
    },
    "language_info": {
      "name": "python"
    }
  },
  "cells": [
    {
      "cell_type": "markdown",
      "metadata": {
        "id": "view-in-github",
        "colab_type": "text"
      },
      "source": [
        "<a href=\"https://colab.research.google.com/github/ParadozGH/TDTT_25021809_LeThanhHung_K70I_CS4_BUOI3/blob/main/thuchanhbuoi3.ipynb\" target=\"_parent\"><img src=\"https://colab.research.google.com/assets/colab-badge.svg\" alt=\"Open In Colab\"/></a>"
      ]
    },
    {
      "cell_type": "code",
      "execution_count": 4,
      "metadata": {
        "colab": {
          "base_uri": "https://localhost:8080/"
        },
        "id": "q2JHmA-CMwrB",
        "outputId": "f1815a2e-3eeb-4437-ba11-b16f1848f17d"
      },
      "outputs": [
        {
          "output_type": "stream",
          "name": "stdout",
          "text": [
            "1345\n",
            "5431\n"
          ]
        }
      ],
      "source": [
        "#Viết một chương trình nhập vào một số nguyên n và in ra các chữ số đảo ngược nhau\n",
        "n = int(input())\n",
        "t = 0\n",
        "while n > 0:\n",
        "    t = t*10 + n % 10\n",
        "    n = n // 10\n",
        "print(t)"
      ]
    },
    {
      "cell_type": "code",
      "source": [
        "#Hoán đổi hai số không sd biến tạm thời\n",
        "a,b = map(int,input().split())\n",
        "a = a ^ b\n",
        "b = a ^ b\n",
        "a = a ^ b\n",
        "print(a,b)"
      ],
      "metadata": {
        "colab": {
          "base_uri": "https://localhost:8080/"
        },
        "id": "d-Ypfj4kN1j4",
        "outputId": "03f521bf-caa2-493d-8b7b-3fee89cebed1"
      },
      "execution_count": 8,
      "outputs": [
        {
          "output_type": "stream",
          "name": "stdout",
          "text": [
            "1 3\n",
            "3 1\n"
          ]
        }
      ]
    },
    {
      "cell_type": "code",
      "source": [
        "#Kiểm tra xem một số có phải là lũy thừa của 2 hay không\n",
        "n = int(input())\n",
        "print(n & (n-1)==0)"
      ],
      "metadata": {
        "colab": {
          "base_uri": "https://localhost:8080/"
        },
        "id": "-bhFl9plOuYi",
        "outputId": "315afaa7-718e-46f1-9647-499b1829d166"
      },
      "execution_count": 13,
      "outputs": [
        {
          "output_type": "stream",
          "name": "stdout",
          "text": [
            "33554432\n",
            "True\n"
          ]
        }
      ]
    },
    {
      "cell_type": "code",
      "source": [
        "#viêt chương trình chia một số m cho n, kết quả thu được làm tròn xuống\n",
        "import math\n",
        "a,b = map(int,input().split())\n",
        "print(math.floor(a/b))"
      ],
      "metadata": {
        "colab": {
          "base_uri": "https://localhost:8080/"
        },
        "id": "O6Th4hV2PWhA",
        "outputId": "1266b31d-6c99-4a55-a221-f11e836868c0"
      },
      "execution_count": 18,
      "outputs": [
        {
          "output_type": "stream",
          "name": "stdout",
          "text": [
            "2442 2\n",
            "1221\n"
          ]
        }
      ]
    },
    {
      "cell_type": "code",
      "source": [
        "#viêt chương trình chia một số m cho n, kết quả thu được làm tròn lên\n",
        "import math\n",
        "a,b = map(int,input().split())\n",
        "print(math.ceil(a/b))"
      ],
      "metadata": {
        "colab": {
          "base_uri": "https://localhost:8080/"
        },
        "id": "55kuvZbuQX9C",
        "outputId": "819426fa-1cfc-401b-9318-e51e9633501c"
      },
      "execution_count": 23,
      "outputs": [
        {
          "output_type": "stream",
          "name": "stdout",
          "text": [
            "2442 2\n",
            "1221\n"
          ]
        }
      ]
    },
    {
      "cell_type": "code",
      "source": [
        "#Nhập vào một số nguyên dương x, bạn hãy kiểm tra xem x là số chẵn hay lẻ. Nếu x là số chẵn, in ra\n",
        "#\"Even\". Nếu x là số lẻ, in ra \"Odd\".\n",
        "x = int(input())\n",
        "if x%2 == 0:\n",
        "  print(\"Even\")\n",
        "else:\n",
        "  print(\"Odd\")"
      ],
      "metadata": {
        "colab": {
          "base_uri": "https://localhost:8080/"
        },
        "id": "ZhlUGABXQql4",
        "outputId": "4ce48bde-8052-4199-8288-c9f5a0407731"
      },
      "execution_count": 25,
      "outputs": [
        {
          "output_type": "stream",
          "name": "stdout",
          "text": [
            "22\n",
            "Even\n"
          ]
        }
      ]
    },
    {
      "cell_type": "code",
      "source": [
        "#Nhập vào hai số nguyên a, b. Nếu cả hai số a, b đều âm thì in ra \"Yes\", ngược lại in ra \"No\".\n",
        "a = int(input())\n",
        "b = int(input())\n",
        "if a < 0 and b < 0:\n",
        "  print(\"Yes\")\n",
        "else:\n",
        "  print(\"No\")"
      ],
      "metadata": {
        "colab": {
          "base_uri": "https://localhost:8080/"
        },
        "id": "wWJSFjBaQ9im",
        "outputId": "886ee60f-eef0-4dda-c75b-3acfc09f00b6"
      },
      "execution_count": 27,
      "outputs": [
        {
          "output_type": "stream",
          "name": "stdout",
          "text": [
            "4\n",
            "1\n",
            "No\n"
          ]
        }
      ]
    },
    {
      "cell_type": "code",
      "source": [
        "#Nhập vào hai chuỗi a, b gồm các chữ cái thường. In ra \"True\" nếu chuỗi a dài hơn chuỗi b. Ngược\n",
        "#lại in ra \"False\".\n",
        "a = input()\n",
        "b = input()\n",
        "print(len(a)>len(b))"
      ],
      "metadata": {
        "colab": {
          "base_uri": "https://localhost:8080/"
        },
        "id": "MYG8n-CkRUFC",
        "outputId": "3dfd448c-9ef6-4345-c078-d03efc09f7ef"
      },
      "execution_count": 29,
      "outputs": [
        {
          "output_type": "stream",
          "name": "stdout",
          "text": [
            "cat\n",
            "dog\n",
            "False\n"
          ]
        }
      ]
    },
    {
      "cell_type": "code",
      "source": [
        "''' Nhập vào 3 số nguyên dương a, b, c. Kiểm tra xem a, b, c có cấu thành độ dài cạnh của 1 tam giác\n",
        "được không. Nếu a, b, c cấu tạo thành được một tam giác, in ra \"Yes\". Ngược lại in ra \"No\". '''\n",
        "a = int(input())\n",
        "b = int(input())\n",
        "c = int(input())\n",
        "if a + b > c and a + c > b and b + c > a:\n",
        "  print(\"Yes\")\n",
        "else:\n",
        "  print(\"No\")"
      ],
      "metadata": {
        "colab": {
          "base_uri": "https://localhost:8080/"
        },
        "id": "KsFjQpJeR1Po",
        "outputId": "a897f885-35fa-490a-8c03-c40de46768ac"
      },
      "execution_count": 31,
      "outputs": [
        {
          "output_type": "stream",
          "name": "stdout",
          "text": [
            "16\n",
            "25\n",
            "9\n",
            "No\n"
          ]
        }
      ]
    },
    {
      "cell_type": "code",
      "source": [
        "#Nhập vào 4 số nguyên. In ra màn hình số nguyên lớn nhất trong 4 số.\n",
        "a = int(input())\n",
        "b = int(input())\n",
        "c = int(input())\n",
        "d = int(input())\n",
        "print(max(a,b,c,d))"
      ],
      "metadata": {
        "colab": {
          "base_uri": "https://localhost:8080/"
        },
        "id": "pNC5p1LyScdE",
        "outputId": "4f8a9517-b50a-4836-fae6-9182118eccbb"
      },
      "execution_count": 33,
      "outputs": [
        {
          "output_type": "stream",
          "name": "stdout",
          "text": [
            "-1\n",
            "-1\n",
            "-1\n",
            "-1\n",
            "-1\n"
          ]
        }
      ]
    },
    {
      "cell_type": "code",
      "source": [
        "''' Nhập vào 3 số nguyên dương a,b,c là độ dài 3 cạnh của một tam giác. Kiểm tra 3 số đã nhập có tạo thành\n",
        "một tam giác hợp lệ hay không. Nếu không in ra \"Không phải tam giác\". Nếu có, phân loại tam giác đó là\n",
        "\"Tam giác đều\", \"Tam giác cân\", hay \"Tam giác thường\". '''\n",
        "a,b,c = map(int,input().split())\n",
        "if a + b > c and a + c > b and b + c > a:\n",
        "  if a == b == c:\n",
        "    print(\"Tam giác đều\")\n",
        "  elif a == b or b == c or a == c:\n",
        "    print(\"Tam giác cân\")\n",
        "  else:\n",
        "    print(\"Tam giác thường\")\n",
        "else:\n",
        "  print(\"Không phải tam giác\")"
      ],
      "metadata": {
        "colab": {
          "base_uri": "https://localhost:8080/"
        },
        "id": "ReZvWBN1SvRo",
        "outputId": "ff42cacf-5f2d-41e1-fcaf-b8a5b10d3574"
      },
      "execution_count": 35,
      "outputs": [
        {
          "output_type": "stream",
          "name": "stdout",
          "text": [
            "3 3 4\n",
            "Tam giác cân\n"
          ]
        }
      ]
    },
    {
      "cell_type": "code",
      "source": [
        "''' Nhập vào một số nguyên dương n là số năm, kiểm tra xem năm đó có phải là năm nhuận hay không. Năm\n",
        "nhuận là năm chia hết cho 4 nhưng không chia hết cho 100, hoặc chia hết cho 400. Nếu là năm nhuận in ra\n",
        "\"Yes\", nếu không in ra \"No\" '''\n",
        "n = int(input())\n",
        "if (n % 4 == 0 and n % 100 != 0) or n % 400 == 0:\n",
        "  print(\"Yes\")\n",
        "else:\n",
        "  print(\"No\")"
      ],
      "metadata": {
        "colab": {
          "base_uri": "https://localhost:8080/"
        },
        "id": "sdWb3-KyTab-",
        "outputId": "2b049826-54e6-42a7-f87f-80ed1139adbf"
      },
      "execution_count": 39,
      "outputs": [
        {
          "output_type": "stream",
          "name": "stdout",
          "text": [
            "2025\n",
            "No\n"
          ]
        }
      ]
    },
    {
      "cell_type": "code",
      "source": [
        "''' Nhập vào số kWh điện tiêu thụ. Tính tiền điện theo các bậc sau:\n",
        "- 0-50 kWh: 1500đ/kWh\n",
        "- 51-100 kWh: 2000đ/kWh\n",
        "- 100 kWh: 3000đ/kWh '''\n",
        "n = int(input())\n",
        "if n <= 50:\n",
        "  print(n*1500)\n",
        "elif n>50 and n<=100:\n",
        "  print(50*1500 + (n-50)*2000)\n",
        "else:\n",
        "  print(50*1500 + 50*2000 + (n-100)*3000)\n"
      ],
      "metadata": {
        "colab": {
          "base_uri": "https://localhost:8080/"
        },
        "id": "KLwMrJF4UG5H",
        "outputId": "fe1d7611-f50d-489a-df64-ca1a4e67f849"
      },
      "execution_count": 40,
      "outputs": [
        {
          "output_type": "stream",
          "name": "stdout",
          "text": [
            "70\n",
            "115000\n"
          ]
        }
      ]
    },
    {
      "cell_type": "code",
      "source": [
        "''' Nhập vào hai số thực a và b của phương trình ax + b = 0. Tìm và in ra nghiệm của phương trình, kết quả\n",
        "làm tròn đến số thập phân thứ 2. In ra \"Vô nghiệm\" hoặc \"Vô số nghiệm\" trong trường hợp tương ứng. '''\n",
        "a = float(input())\n",
        "b = float(input())\n",
        "if a == 0 and b == 0:\n",
        "  print(\"Vô số nghiệm\")\n",
        "elif a == 0 and b != 0:\n",
        "  print(\"Vô nghiệm\")\n",
        "else:\n",
        "  print(f\"{-b/a:.2f}\")"
      ],
      "metadata": {
        "colab": {
          "base_uri": "https://localhost:8080/"
        },
        "id": "Nzh0z2RnVqd1",
        "outputId": "e0166089-e9bc-4236-e6cc-34949f5d1f96"
      },
      "execution_count": 46,
      "outputs": [
        {
          "output_type": "stream",
          "name": "stdout",
          "text": [
            "0.23\n",
            "99.1\n",
            "-430.87\n"
          ]
        }
      ]
    },
    {
      "cell_type": "code",
      "source": [
        "''' Nhập vào điểm trung bình của một học sinh và in ra học lực của học sinh đó. Xếp loại học lực theo quy tắc:\n",
        "- >= 8.0: Giỏi\n",
        "- >= 6.5: Khá\n",
        "- >= 5.0: Trung bình\n",
        "- < 5.0: Yếu '''\n",
        "grade = float(input())\n",
        "if grade >= 8.0:\n",
        "  print(\"Giỏi\")\n",
        "elif grade >= 6.5 and grade < 8.0:\n",
        "  print(\"Khá\")\n",
        "elif grade >= 5 and grade < 6.5:\n",
        "  print(\"Trung bình\")\n",
        "else:\n",
        "  print(\"Yếu\")"
      ],
      "metadata": {
        "colab": {
          "base_uri": "https://localhost:8080/"
        },
        "id": "Q0hkOWnZWtlZ",
        "outputId": "92cd7f96-8976-4379-bb3e-70c82ec5edbd"
      },
      "execution_count": 47,
      "outputs": [
        {
          "output_type": "stream",
          "name": "stdout",
          "text": [
            "4.9\n",
            "Yếu\n"
          ]
        }
      ]
    },
    {
      "cell_type": "code",
      "source": [],
      "metadata": {
        "id": "wBI2HW4TgsoS"
      },
      "execution_count": null,
      "outputs": []
    },
    {
      "cell_type": "code",
      "source": [
        "''' Nhập vào một số thực: in ra kết quả làm tròn lên ,tròn xuống, làm tròn tới số nguyên gần nhất (không được\n",
        "sử dụng hàm sẵn có của pyton). Các kết quả cách nhau một dấu cách '''\n",
        "a = float(input())\n",
        "n = int(a)\n",
        "remain = a - n\n",
        "#Lam tron xuong\n",
        "if a >= 0:\n",
        "  down = n\n",
        "else:\n",
        "  if remain == 0:\n",
        "   down = n\n",
        "  else:\n",
        "   down = n - 1\n",
        "#Lam tron len\n",
        "if a >= 0:\n",
        "  if remain == 0:\n",
        "    up = n\n",
        "  else:\n",
        "    up = n + 1\n",
        "else:\n",
        "  up = int(a - remain)\n",
        "#Lam tron so nguyen gan nhat\n",
        "if a >= 0:\n",
        "  if remain == 0:\n",
        "    near = n\n",
        "  elif remain >= 0.5:\n",
        "    near = n + 1\n",
        "  else:\n",
        "    near = n - 1\n",
        "else:\n",
        "  if remain == 0:\n",
        "    near = n\n",
        "  elif remain <= -0.5:\n",
        "    near = n - 1\n",
        "  else:\n",
        "    near = n + 1\n",
        "print(up,down,near)"
      ],
      "metadata": {
        "colab": {
          "base_uri": "https://localhost:8080/"
        },
        "id": "WeqTIRvMXcP6",
        "outputId": "d4aaa156-f4b3-4b3f-dec0-2729171907bd"
      },
      "execution_count": 58,
      "outputs": [
        {
          "output_type": "stream",
          "name": "stdout",
          "text": [
            "-8.0\n",
            "-8 -8 -8\n"
          ]
        }
      ]
    },
    {
      "cell_type": "code",
      "source": [
        "''' Nhập vào 3 số nguyên dương a,b,c là độ dài 3 cạnh của một tam giác. Kiểm tra 3 số đã nhập có tạo thành\n",
        "một tam giác hợp lệ hay không. Nếu không in ra \"Không phải tam giác\". Nếu có, phân loại tam giác đó là\n",
        "\"Tam giác đều\", \"Tam giác cân\", hay \"Tam giác thường\". '''\n",
        "a,b,c = map(int,input().split())\n",
        "if a + b > c and a + c > b and b + c > a:\n",
        "  if a == b == c:\n",
        "    print(\"Tam giác đều\")\n",
        "  elif a == b or b == c or a == c:\n",
        "    print(\"Tam giác cân\")\n",
        "  else:\n",
        "    print(\"Tam giác thường\")\n",
        "else:\n",
        "  print(\"Không phải tam giác\")"
      ],
      "metadata": {
        "id": "g7HSw5ADXZ8M"
      },
      "execution_count": null,
      "outputs": []
    }
  ]
}